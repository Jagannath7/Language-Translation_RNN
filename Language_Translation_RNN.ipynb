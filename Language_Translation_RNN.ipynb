{
  "nbformat": 4,
  "nbformat_minor": 0,
  "metadata": {
    "colab": {
      "name": "Language-Translation_RNN.ipynb",
      "provenance": [],
      "authorship_tag": "ABX9TyPtsQXJUY2VPkhwXHHXrOLM",
      "include_colab_link": true
    },
    "kernelspec": {
      "name": "python3",
      "display_name": "Python 3"
    },
    "accelerator": "GPU"
  },
  "cells": [
    {
      "cell_type": "markdown",
      "metadata": {
        "id": "view-in-github",
        "colab_type": "text"
      },
      "source": [
        "<a href=\"https://colab.research.google.com/github/madhav3099/Language-Translation_RNN/blob/master/Language_Translation_RNN.ipynb\" target=\"_parent\"><img src=\"https://colab.research.google.com/assets/colab-badge.svg\" alt=\"Open In Colab\"/></a>"
      ]
    },
    {
      "cell_type": "code",
      "metadata": {
        "id": "zroCPaD106T7",
        "colab_type": "code",
        "colab": {}
      },
      "source": [
        "%tensorflow_version 1.x"
      ],
      "execution_count": 0,
      "outputs": []
    },
    {
      "cell_type": "code",
      "metadata": {
        "id": "kwiDxb_t3L7z",
        "colab_type": "code",
        "colab": {}
      },
      "source": [
        "import numpy as np"
      ],
      "execution_count": 0,
      "outputs": []
    },
    {
      "cell_type": "code",
      "metadata": {
        "id": "PXcbsufl3L_Q",
        "colab_type": "code",
        "colab": {}
      },
      "source": [
        "!wget http://www.manythings.org/anki/deu-eng.zip"
      ],
      "execution_count": 0,
      "outputs": []
    },
    {
      "cell_type": "code",
      "metadata": {
        "id": "j1-b0ccj3MCd",
        "colab_type": "code",
        "colab": {}
      },
      "source": [
        "!unzip deu-eng.zip"
      ],
      "execution_count": 0,
      "outputs": []
    },
    {
      "cell_type": "code",
      "metadata": {
        "id": "uciVDk6J3MF1",
        "colab_type": "code",
        "colab": {}
      },
      "source": [
        "def read_text(filename):\n",
        "  file = open(filename,mode=\"rt\",encoding=\"utf-8\")\n",
        "  text =file.read()\n",
        "  file.close()\n",
        "  return text\n",
        "\n",
        "\n",
        "def to_lines(text):\n",
        "    pairs = text.strip().split('\\n')\n",
        "    sents = [p.split('\\t') for p in pairs]\n",
        "    return sents\n",
        "\n",
        " \n",
        "data = read_text(\"deu.txt\")\n",
        "deu_eng = to_lines(data)\n",
        "deu_eng = np.array(deu_eng)\n",
        "\n",
        "\n",
        "deu_eng[0]"
      ],
      "execution_count": 0,
      "outputs": []
    },
    {
      "cell_type": "code",
      "metadata": {
        "id": "1OaS2l2e3MIm",
        "colab_type": "code",
        "colab": {}
      },
      "source": [
        "deu_eng = deu_eng[:50000,:]"
      ],
      "execution_count": 0,
      "outputs": []
    },
    {
      "cell_type": "code",
      "metadata": {
        "id": "yxlGB2cH3MLG",
        "colab_type": "code",
        "colab": {}
      },
      "source": [
        ""
      ],
      "execution_count": 0,
      "outputs": []
    },
    {
      "cell_type": "code",
      "metadata": {
        "id": "wfZK0L1-wMcM",
        "colab_type": "code",
        "colab": {}
      },
      "source": [
        "import string\n",
        "\n",
        "\n",
        "deu_eng[:,0] = [s.translate(str.maketrans(\"\",\"\",string.punctuation))for s in deu_eng[:,0]]\n",
        "deu_eng[:,1] = [s.translate(str.maketrans(\"\",\"\",string.punctuation))for s in deu_eng[:,1]]"
      ],
      "execution_count": 0,
      "outputs": []
    },
    {
      "cell_type": "code",
      "metadata": {
        "id": "zxv8YG7LwMfK",
        "colab_type": "code",
        "colab": {}
      },
      "source": [
        ""
      ],
      "execution_count": 0,
      "outputs": []
    },
    {
      "cell_type": "code",
      "metadata": {
        "id": "x11NtPK9wMia",
        "colab_type": "code",
        "colab": {
          "base_uri": "https://localhost:8080/",
          "height": 255
        },
        "outputId": "968e5719-2725-4e1d-af91-7dc25b1186c0"
      },
      "source": [
        "deu_eng"
      ],
      "execution_count": 12,
      "outputs": [
        {
          "output_type": "execute_result",
          "data": {
            "text/plain": [
              "array([['Go', 'Geh',\n",
              "        'CC-BY 2.0 (France) Attribution: tatoeba.org #2877272 (CM) & #8597805 (Roujin)'],\n",
              "       ['Hi', 'Hallo',\n",
              "        'CC-BY 2.0 (France) Attribution: tatoeba.org #538123 (CM) & #380701 (cburgmer)'],\n",
              "       ['Hi', 'Grüß Gott',\n",
              "        'CC-BY 2.0 (France) Attribution: tatoeba.org #538123 (CM) & #659813 (Esperantostern)'],\n",
              "       ...,\n",
              "       ['You need not go there', 'Du musst nicht dorthin gehen',\n",
              "        'CC-BY 2.0 (France) Attribution: tatoeba.org #70007 (CM) & #1813634 (Pfirsichbaeumchen)'],\n",
              "       ['You need not go there', 'Du brauchst nicht dorthin zu gehen',\n",
              "        'CC-BY 2.0 (France) Attribution: tatoeba.org #70007 (CM) & #1813635 (Pfirsichbaeumchen)'],\n",
              "       ['You need to apologize', 'Du musst dich entschuldigen',\n",
              "        'CC-BY 2.0 (France) Attribution: tatoeba.org #3826573 (CK) & #3928528 (Tamy)']],\n",
              "      dtype='<U537')"
            ]
          },
          "metadata": {
            "tags": []
          },
          "execution_count": 12
        }
      ]
    },
    {
      "cell_type": "code",
      "metadata": {
        "id": "ydbzKpydwMlf",
        "colab_type": "code",
        "colab": {}
      },
      "source": [
        ""
      ],
      "execution_count": 0,
      "outputs": []
    },
    {
      "cell_type": "code",
      "metadata": {
        "id": "loLw1liHwMoO",
        "colab_type": "code",
        "colab": {}
      },
      "source": [
        "for i in range(len(deu_eng)):\n",
        "  deu_eng[i,0] = deu_eng[i,0].lower()\n",
        "  deu_eng[i,1] = deu_eng[i,1].lower()\n"
      ],
      "execution_count": 0,
      "outputs": []
    },
    {
      "cell_type": "code",
      "metadata": {
        "id": "efokXVnGwMrD",
        "colab_type": "code",
        "colab": {}
      },
      "source": [
        ""
      ],
      "execution_count": 0,
      "outputs": []
    },
    {
      "cell_type": "code",
      "metadata": {
        "id": "8y6lssoDwMto",
        "colab_type": "code",
        "colab": {}
      },
      "source": [
        "import matplotlib.pyplot as plt\n",
        "%matplotlib inline\n",
        "\n",
        "import pandas as pd\n"
      ],
      "execution_count": 0,
      "outputs": []
    },
    {
      "cell_type": "code",
      "metadata": {
        "id": "sotXE3wxwMzR",
        "colab_type": "code",
        "colab": {}
      },
      "source": [
        "eng_len = [len(s.split()) for s in deu_eng[:,0]]\n",
        "deu_len = [len(s.split()) for s in deu_eng[:,1]]\n"
      ],
      "execution_count": 0,
      "outputs": []
    },
    {
      "cell_type": "code",
      "metadata": {
        "id": "oB5L1cgGwM2c",
        "colab_type": "code",
        "colab": {
          "base_uri": "https://localhost:8080/",
          "height": 281
        },
        "outputId": "255bcd0d-4bee-4364-c075-379bb832802c"
      },
      "source": [
        "lenghts_df = pd.DataFrame({'eng':eng_len , 'deu':deu_len})\n",
        "lenghts_df.hist(bins=30)\n",
        "plt.show()\n"
      ],
      "execution_count": 17,
      "outputs": [
        {
          "output_type": "display_data",
          "data": {
            "image/png": "[encoded data removed]",
            "text/plain": [
              "<Figure size 432x288 with 2 Axes>"
            ]
          },
          "metadata": {
            "tags": [],
            "needs_background": "light"
          }
        }
      ]
    },
    {
      "cell_type": "code",
      "metadata": {
        "id": "Bfn7tobuwM5x",
        "colab_type": "code",
        "colab": {}
      },
      "source": [
        ""
      ],
      "execution_count": 0,
      "outputs": []
    },
    {
      "cell_type": "code",
      "metadata": {
        "id": "FQM9yef5wM9b",
        "colab_type": "code",
        "colab": {}
      },
      "source": [
        "from keras.preprocessing.text import Tokenizer\n",
        "from keras.preprocessing.sequence import pad_sequences\n"
      ],
      "execution_count": 0,
      "outputs": []
    },
    {
      "cell_type": "code",
      "metadata": {
        "id": "vSL-zsxrwNAf",
        "colab_type": "code",
        "colab": {
          "base_uri": "https://localhost:8080/",
          "height": 34
        },
        "outputId": "a1a317cf-56b9-4878-9b77-f3ef5d1e9c9f"
      },
      "source": [
        "eng_tokenizer = Tokenizer()\n",
        "eng_tokenizer.fit_on_texts(deu_eng[:,0])\n",
        "eng_vocab_size = len(eng_tokenizer.word_index) +1\n",
        "print(eng_vocab_size)\n"
      ],
      "execution_count": 21,
      "outputs": [
        {
          "output_type": "stream",
          "text": [
            "6331\n"
          ],
          "name": "stdout"
        }
      ]
    },
    {
      "cell_type": "code",
      "metadata": {
        "id": "YuP4_MuwwND2",
        "colab_type": "code",
        "colab": {
          "base_uri": "https://localhost:8080/",
          "height": 34
        },
        "outputId": "62d0e712-f63e-49e1-8d0d-0d3317e4ad55"
      },
      "source": [
        "deu_tokenizer = Tokenizer()\n",
        "deu_tokenizer.fit_on_texts(deu_eng[:,1])\n",
        "deu_vocab_size = len(deu_tokenizer.word_index) +1\n",
        "print(deu_vocab_size)"
      ],
      "execution_count": 22,
      "outputs": [
        {
          "output_type": "stream",
          "text": [
            "10455\n"
          ],
          "name": "stdout"
        }
      ]
    },
    {
      "cell_type": "code",
      "metadata": {
        "id": "--7GumhWwNGQ",
        "colab_type": "code",
        "colab": {}
      },
      "source": [
        "eng_max_length = 8\n",
        "deu_max_length = 8"
      ],
      "execution_count": 0,
      "outputs": []
    },
    {
      "cell_type": "code",
      "metadata": {
        "id": "KqszWKBDwNI3",
        "colab_type": "code",
        "colab": {}
      },
      "source": [
        "def encode_sequences(tokenizer,length,lines):\n",
        "  seq = tokenizer.texts_to_sequences(lines)\n",
        "  seq = pad_sequences(seq,maxlen=length,padding='post')\n",
        "  return seq"
      ],
      "execution_count": 0,
      "outputs": []
    },
    {
      "cell_type": "code",
      "metadata": {
        "id": "yt-5L1qLwNMp",
        "colab_type": "code",
        "colab": {}
      },
      "source": [
        ""
      ],
      "execution_count": 0,
      "outputs": []
    },
    {
      "cell_type": "code",
      "metadata": {
        "id": "p0nyimoWwNPO",
        "colab_type": "code",
        "colab": {}
      },
      "source": [
        "from sklearn.model_selection import train_test_split\n",
        "\n",
        "train,test = train_test_split(deu_eng,test_size =0.2,random_state =12)"
      ],
      "execution_count": 0,
      "outputs": []
    },
    {
      "cell_type": "code",
      "metadata": {
        "id": "jIQ_gQLMwNSk",
        "colab_type": "code",
        "colab": {
          "base_uri": "https://localhost:8080/",
          "height": 34
        },
        "outputId": "ff2a205d-a8d7-41b2-85fc-f401dbdf9241"
      },
      "source": [
        "trainX = encode_sequences(deu_tokenizer , deu_max_length , train[:,1])\n",
        "\n",
        "trainY = encode_sequences(eng_tokenizer , eng_max_length , train[:,0])\n",
        "\n",
        "print(trainX.shape , trainY.shape)\n"
      ],
      "execution_count": 31,
      "outputs": [
        {
          "output_type": "stream",
          "text": [
            "(40000, 8) (40000, 8)\n"
          ],
          "name": "stdout"
        }
      ]
    },
    {
      "cell_type": "code",
      "metadata": {
        "id": "QTtiNBztwNVF",
        "colab_type": "code",
        "colab": {
          "base_uri": "https://localhost:8080/",
          "height": 34
        },
        "outputId": "805fe1c1-80e9-4310-e6eb-a63c7c3b6ad7"
      },
      "source": [
        "print(trainX[0])"
      ],
      "execution_count": 32,
      "outputs": [
        {
          "output_type": "stream",
          "text": [
            "[  1 109   5 326   0   0   0   0]\n"
          ],
          "name": "stdout"
        }
      ]
    },
    {
      "cell_type": "code",
      "metadata": {
        "id": "GmBKZ5cmwNYD",
        "colab_type": "code",
        "colab": {}
      },
      "source": [
        ""
      ],
      "execution_count": 0,
      "outputs": []
    },
    {
      "cell_type": "code",
      "metadata": {
        "id": "LwgM5gIWwMwJ",
        "colab_type": "code",
        "colab": {
          "base_uri": "https://localhost:8080/",
          "height": 34
        },
        "outputId": "397dc5cf-b2c1-4d2f-e536-473d2a6eee98"
      },
      "source": [
        "testX = encode_sequences(deu_tokenizer , deu_max_length , test[:,1])\n",
        "\n",
        "testY = encode_sequences(eng_tokenizer , eng_max_length , test[:,0])\n",
        "\n",
        "print(testX.shape , testY.shape)\n"
      ],
      "execution_count": 34,
      "outputs": [
        {
          "output_type": "stream",
          "text": [
            "(10000, 8) (10000, 8)\n"
          ],
          "name": "stdout"
        }
      ]
    },
    {
      "cell_type": "code",
      "metadata": {
        "id": "SfOyj9dB3u6V",
        "colab_type": "code",
        "colab": {}
      },
      "source": [
        ""
      ],
      "execution_count": 0,
      "outputs": []
    },
    {
      "cell_type": "code",
      "metadata": {
        "id": "-eOYYvcM3u9G",
        "colab_type": "code",
        "colab": {}
      },
      "source": [
        "from keras.models import Sequential\n",
        "from keras.layers import Dense , LSTM ,RepeatVector\n",
        "from keras.layers.embeddings import Embedding\n",
        "from keras import optimizers\n",
        "from keras.callbacks import ModelCheckpoint"
      ],
      "execution_count": 0,
      "outputs": []
    },
    {
      "cell_type": "code",
      "metadata": {
        "id": "WYk9Y_BZ3vAa",
        "colab_type": "code",
        "colab": {}
      },
      "source": [
        ""
      ],
      "execution_count": 0,
      "outputs": []
    },
    {
      "cell_type": "code",
      "metadata": {
        "id": "LU_fAhF63vCi",
        "colab_type": "code",
        "colab": {
          "base_uri": "https://localhost:8080/",
          "height": 445
        },
        "outputId": "b3a433a5-17df-4044-8bea-665589e1579f"
      },
      "source": [
        "model = Sequential()\n",
        "model.add(Embedding(deu_vocab_size , 512 , input_length= deu_max_length , mask_zero= True))\n",
        "\n",
        "model.add(LSTM(512))\n",
        "\n",
        "model.add(RepeatVector(eng_max_length))\n",
        "model.add(LSTM(512, return_sequences= True))\n",
        "\n",
        "model.add(Dense(eng_vocab_size,activation=\"softmax\"))\n",
        "\n",
        "model.summary()"
      ],
      "execution_count": 36,
      "outputs": [
        {
          "output_type": "stream",
          "text": [
            "WARNING:tensorflow:From /tensorflow-1.15.2/python3.6/tensorflow_core/python/ops/resource_variable_ops.py:1630: calling BaseResourceVariable.__init__ (from tensorflow.python.ops.resource_variable_ops) with constraint is deprecated and will be removed in a future version.\n",
            "Instructions for updating:\n",
            "If using Keras pass *_constraint arguments to layers.\n",
            "WARNING:tensorflow:From /tensorflow-1.15.2/python3.6/tensorflow_core/python/keras/backend.py:3994: where (from tensorflow.python.ops.array_ops) is deprecated and will be removed in a future version.\n",
            "Instructions for updating:\n",
            "Use tf.where in 2.0, which has the same broadcast rule as np.where\n",
            "Model: \"sequential_1\"\n",
            "_________________________________________________________________\n",
            "Layer (type)                 Output Shape              Param #   \n",
            "=================================================================\n",
            "embedding_1 (Embedding)      (None, 8, 512)            5352960   \n",
            "_________________________________________________________________\n",
            "lstm_1 (LSTM)                (None, 512)               2099200   \n",
            "_________________________________________________________________\n",
            "repeat_vector_1 (RepeatVecto (None, 8, 512)            0         \n",
            "_________________________________________________________________\n",
            "lstm_2 (LSTM)                (None, 8, 512)            2099200   \n",
            "_________________________________________________________________\n",
            "dense_1 (Dense)              (None, 8, 6331)           3247803   \n",
            "=================================================================\n",
            "Total params: 12,799,163\n",
            "Trainable params: 12,799,163\n",
            "Non-trainable params: 0\n",
            "_________________________________________________________________\n"
          ],
          "name": "stdout"
        }
      ]
    },
    {
      "cell_type": "code",
      "metadata": {
        "id": "vBAL66EY3vFK",
        "colab_type": "code",
        "colab": {}
      },
      "source": [
        "rms = optimizers.RMSprop(lr=0.001)\n",
        "model.compile(optimizer=rms , loss=\"sparse_categorical_crossentropy\")"
      ],
      "execution_count": 0,
      "outputs": []
    },
    {
      "cell_type": "code",
      "metadata": {
        "id": "nw9WEZUa3vHq",
        "colab_type": "code",
        "colab": {}
      },
      "source": [
        "filename = \"model.h1.2020_jan_15\"\n",
        "checkpoint = ModelCheckpoint(filename , monitor=\"val_loss\" , mode=\"min\", save_best_only=True ,verbose=1)"
      ],
      "execution_count": 0,
      "outputs": []
    },
    {
      "cell_type": "code",
      "metadata": {
        "id": "yvd6GxEB3vKy",
        "colab_type": "code",
        "colab": {
          "base_uri": "https://localhost:8080/",
          "height": 1000
        },
        "outputId": "2ca51ebb-a02b-4fcc-9573-d3c2fa02c9b3"
      },
      "source": [
        "history = model.fit(trainX , trainY.reshape(40000,8,1) ,\n",
        "                    epochs = 30,\n",
        "                    batch_size= 512,\n",
        "                    validation_split = 0.2,\n",
        "                    callbacks =[checkpoint],\n",
        "                    verbose =1)"
      ],
      "execution_count": 40,
      "outputs": [
        {
          "output_type": "stream",
          "text": [
            "WARNING:tensorflow:From /usr/local/lib/python3.6/dist-packages/keras/backend/tensorflow_backend.py:422: The name tf.global_variables is deprecated. Please use tf.compat.v1.global_variables instead.\n",
            "\n",
            "Train on 32000 samples, validate on 8000 samples\n",
            "Epoch 1/30\n",
            "32000/32000 [==============================] - 7s 215us/step - loss: 3.4464 - val_loss: 2.8987\n",
            "\n",
            "Epoch 00001: val_loss improved from inf to 2.89868, saving model to model.h1.2020_jan_15\n",
            "Epoch 2/30\n",
            "32000/32000 [==============================] - 5s 146us/step - loss: 2.8120 - val_loss: 2.7797\n",
            "\n",
            "Epoch 00002: val_loss improved from 2.89868 to 2.77965, saving model to model.h1.2020_jan_15\n",
            "Epoch 3/30\n",
            "32000/32000 [==============================] - 5s 144us/step - loss: 2.6581 - val_loss: 2.5917\n",
            "\n",
            "Epoch 00003: val_loss improved from 2.77965 to 2.59167, saving model to model.h1.2020_jan_15\n",
            "Epoch 4/30\n",
            "32000/32000 [==============================] - 5s 145us/step - loss: 2.4663 - val_loss: 2.4828\n",
            "\n",
            "Epoch 00004: val_loss improved from 2.59167 to 2.48277, saving model to model.h1.2020_jan_15\n",
            "Epoch 5/30\n",
            "32000/32000 [==============================] - 5s 146us/step - loss: 2.3205 - val_loss: 2.3825\n",
            "\n",
            "Epoch 00005: val_loss improved from 2.48277 to 2.38252, saving model to model.h1.2020_jan_15\n",
            "Epoch 6/30\n",
            "32000/32000 [==============================] - 5s 145us/step - loss: 2.1846 - val_loss: 2.2489\n",
            "\n",
            "Epoch 00006: val_loss improved from 2.38252 to 2.24887, saving model to model.h1.2020_jan_15\n",
            "Epoch 7/30\n",
            "32000/32000 [==============================] - 5s 145us/step - loss: 2.0621 - val_loss: 2.1707\n",
            "\n",
            "Epoch 00007: val_loss improved from 2.24887 to 2.17073, saving model to model.h1.2020_jan_15\n",
            "Epoch 8/30\n",
            "32000/32000 [==============================] - 5s 144us/step - loss: 1.9554 - val_loss: 2.1188\n",
            "\n",
            "Epoch 00008: val_loss improved from 2.17073 to 2.11880, saving model to model.h1.2020_jan_15\n",
            "Epoch 9/30\n",
            "32000/32000 [==============================] - 5s 145us/step - loss: 1.8557 - val_loss: 2.0344\n",
            "\n",
            "Epoch 00009: val_loss improved from 2.11880 to 2.03438, saving model to model.h1.2020_jan_15\n",
            "Epoch 10/30\n",
            "32000/32000 [==============================] - 5s 145us/step - loss: 1.7582 - val_loss: 1.9672\n",
            "\n",
            "Epoch 00010: val_loss improved from 2.03438 to 1.96719, saving model to model.h1.2020_jan_15\n",
            "Epoch 11/30\n",
            "32000/32000 [==============================] - 5s 146us/step - loss: 1.6590 - val_loss: 1.9172\n",
            "\n",
            "Epoch 00011: val_loss improved from 1.96719 to 1.91722, saving model to model.h1.2020_jan_15\n",
            "Epoch 12/30\n",
            "32000/32000 [==============================] - 5s 147us/step - loss: 1.5629 - val_loss: 1.8137\n",
            "\n",
            "Epoch 00012: val_loss improved from 1.91722 to 1.81369, saving model to model.h1.2020_jan_15\n",
            "Epoch 13/30\n",
            "32000/32000 [==============================] - 5s 146us/step - loss: 1.4673 - val_loss: 1.7618\n",
            "\n",
            "Epoch 00013: val_loss improved from 1.81369 to 1.76178, saving model to model.h1.2020_jan_15\n",
            "Epoch 14/30\n",
            "32000/32000 [==============================] - 5s 145us/step - loss: 1.3755 - val_loss: 1.7291\n",
            "\n",
            "Epoch 00014: val_loss improved from 1.76178 to 1.72909, saving model to model.h1.2020_jan_15\n",
            "Epoch 15/30\n",
            "32000/32000 [==============================] - 5s 144us/step - loss: 1.2928 - val_loss: 1.6640\n",
            "\n",
            "Epoch 00015: val_loss improved from 1.72909 to 1.66402, saving model to model.h1.2020_jan_15\n",
            "Epoch 16/30\n",
            "32000/32000 [==============================] - 5s 146us/step - loss: 1.2100 - val_loss: 1.6065\n",
            "\n",
            "Epoch 00016: val_loss improved from 1.66402 to 1.60649, saving model to model.h1.2020_jan_15\n",
            "Epoch 17/30\n",
            "32000/32000 [==============================] - 5s 143us/step - loss: 1.1317 - val_loss: 1.5658\n",
            "\n",
            "Epoch 00017: val_loss improved from 1.60649 to 1.56582, saving model to model.h1.2020_jan_15\n",
            "Epoch 18/30\n",
            "32000/32000 [==============================] - 5s 144us/step - loss: 1.0571 - val_loss: 1.5409\n",
            "\n",
            "Epoch 00018: val_loss improved from 1.56582 to 1.54086, saving model to model.h1.2020_jan_15\n",
            "Epoch 19/30\n",
            "32000/32000 [==============================] - 5s 144us/step - loss: 0.9875 - val_loss: 1.4997\n",
            "\n",
            "Epoch 00019: val_loss improved from 1.54086 to 1.49967, saving model to model.h1.2020_jan_15\n",
            "Epoch 20/30\n",
            "32000/32000 [==============================] - 5s 144us/step - loss: 0.9182 - val_loss: 1.4667\n",
            "\n",
            "Epoch 00020: val_loss improved from 1.49967 to 1.46672, saving model to model.h1.2020_jan_15\n",
            "Epoch 21/30\n",
            "32000/32000 [==============================] - 5s 145us/step - loss: 0.8569 - val_loss: 1.4588\n",
            "\n",
            "Epoch 00021: val_loss improved from 1.46672 to 1.45875, saving model to model.h1.2020_jan_15\n",
            "Epoch 22/30\n",
            "32000/32000 [==============================] - 5s 146us/step - loss: 0.7945 - val_loss: 1.4383\n",
            "\n",
            "Epoch 00022: val_loss improved from 1.45875 to 1.43833, saving model to model.h1.2020_jan_15\n",
            "Epoch 23/30\n",
            "32000/32000 [==============================] - 5s 145us/step - loss: 0.7383 - val_loss: 1.4158\n",
            "\n",
            "Epoch 00023: val_loss improved from 1.43833 to 1.41580, saving model to model.h1.2020_jan_15\n",
            "Epoch 24/30\n",
            "32000/32000 [==============================] - 5s 144us/step - loss: 0.6841 - val_loss: 1.3853\n",
            "\n",
            "Epoch 00024: val_loss improved from 1.41580 to 1.38528, saving model to model.h1.2020_jan_15\n",
            "Epoch 25/30\n",
            "32000/32000 [==============================] - 5s 145us/step - loss: 0.6312 - val_loss: 1.3733\n",
            "\n",
            "Epoch 00025: val_loss improved from 1.38528 to 1.37331, saving model to model.h1.2020_jan_15\n",
            "Epoch 26/30\n",
            "32000/32000 [==============================] - 5s 146us/step - loss: 0.5835 - val_loss: 1.3615\n",
            "\n",
            "Epoch 00026: val_loss improved from 1.37331 to 1.36153, saving model to model.h1.2020_jan_15\n",
            "Epoch 27/30\n",
            "32000/32000 [==============================] - 5s 146us/step - loss: 0.5389 - val_loss: 1.3496\n",
            "\n",
            "Epoch 00027: val_loss improved from 1.36153 to 1.34956, saving model to model.h1.2020_jan_15\n",
            "Epoch 28/30\n",
            "32000/32000 [==============================] - 5s 145us/step - loss: 0.4979 - val_loss: 1.3378\n",
            "\n",
            "Epoch 00028: val_loss improved from 1.34956 to 1.33782, saving model to model.h1.2020_jan_15\n",
            "Epoch 29/30\n",
            "32000/32000 [==============================] - 5s 144us/step - loss: 0.4563 - val_loss: 1.3365\n",
            "\n",
            "Epoch 00029: val_loss improved from 1.33782 to 1.33647, saving model to model.h1.2020_jan_15\n",
            "Epoch 30/30\n",
            "32000/32000 [==============================] - 5s 145us/step - loss: 0.4193 - val_loss: 1.3339\n",
            "\n",
            "Epoch 00030: val_loss improved from 1.33647 to 1.33389, saving model to model.h1.2020_jan_15\n"
          ],
          "name": "stdout"
        }
      ]
    },
    {
      "cell_type": "code",
      "metadata": {
        "id": "-DNLD7xz3vNv",
        "colab_type": "code",
        "colab": {
          "base_uri": "https://localhost:8080/",
          "height": 265
        },
        "outputId": "8e38dbe9-b135-4a2c-9f06-914e223711df"
      },
      "source": [
        "plt.plot(history.history['loss'])\n",
        "plt.plot(history.history['val_loss'])\n",
        "plt.legend(['train' , 'validation'])\n",
        "plt.show()\n"
      ],
      "execution_count": 41,
      "outputs": [
        {
          "output_type": "display_data",
          "data": {
            "image/png": "[encoded data removed]",
            "text/plain": [
              "<Figure size 432x288 with 1 Axes>"
            ]
          },
          "metadata": {
            "tags": [],
            "needs_background": "light"
          }
        }
      ]
    },
    {
      "cell_type": "code",
      "metadata": {
        "id": "G05QTo2v3vQa",
        "colab_type": "code",
        "colab": {}
      },
      "source": [
        ""
      ],
      "execution_count": 0,
      "outputs": []
    },
    {
      "cell_type": "code",
      "metadata": {
        "id": "wsdXFrFj3vTg",
        "colab_type": "code",
        "colab": {}
      },
      "source": [
        "from keras.models import load_model"
      ],
      "execution_count": 0,
      "outputs": []
    },
    {
      "cell_type": "code",
      "metadata": {
        "id": "Fwp6XpaL3vWh",
        "colab_type": "code",
        "colab": {}
      },
      "source": [
        "model = load_model(filename)\n",
        "preds = model.predict_classes(testX)"
      ],
      "execution_count": 0,
      "outputs": []
    },
    {
      "cell_type": "code",
      "metadata": {
        "id": "NB-w_wdX3vbO",
        "colab_type": "code",
        "colab": {}
      },
      "source": [
        "eng_dict = {t:w for w,t in eng_tokenizer.word_index.items()}\n"
      ],
      "execution_count": 0,
      "outputs": []
    },
    {
      "cell_type": "code",
      "metadata": {
        "id": "r7XBmsmO3vgg",
        "colab_type": "code",
        "colab": {}
      },
      "source": [
        "eng_preds = []\n",
        "for p in preds:\n",
        "  sent = []\n",
        "  for t in p:\n",
        "    w = eng_dict.get(t) if t > 0 else \"\"\n",
        "    sent.append(w)\n",
        "  eng_preds.append(' '.join(sent))"
      ],
      "execution_count": 0,
      "outputs": []
    },
    {
      "cell_type": "code",
      "metadata": {
        "id": "_Rt1V8Po3vjU",
        "colab_type": "code",
        "colab": {}
      },
      "source": [
        ""
      ],
      "execution_count": 0,
      "outputs": []
    },
    {
      "cell_type": "code",
      "metadata": {
        "id": "ijmiQ-Fu3vmQ",
        "colab_type": "code",
        "colab": {
          "base_uri": "https://localhost:8080/",
          "height": 514
        },
        "outputId": "42256ca6-6498-4b6d-b0cf-4b5974f19062"
      },
      "source": [
        "pred_df = pd.DataFrame({'actual' :test[:,0] , 'predicted':eng_preds})\n",
        "pred_df.head(15)"
      ],
      "execution_count": 47,
      "outputs": [
        {
          "output_type": "execute_result",
          "data": {
            "text/html": [
              "<div>\n",
              "<style scoped>\n",
              "    .dataframe tbody tr th:only-of-type {\n",
              "        vertical-align: middle;\n",
              "    }\n",
              "\n",
              "    .dataframe tbody tr th {\n",
              "        vertical-align: top;\n",
              "    }\n",
              "\n",
              "    .dataframe thead th {\n",
              "        text-align: right;\n",
              "    }\n",
              "</style>\n",
              "<table border=\"1\" class=\"dataframe\">\n",
              "  <thead>\n",
              "    <tr style=\"text-align: right;\">\n",
              "      <th></th>\n",
              "      <th>actual</th>\n",
              "      <th>predicted</th>\n",
              "    </tr>\n",
              "  </thead>\n",
              "  <tbody>\n",
              "    <tr>\n",
              "      <th>0</th>\n",
              "      <td>tom banged his head</td>\n",
              "      <td>tom brushed his head</td>\n",
              "    </tr>\n",
              "    <tr>\n",
              "      <th>1</th>\n",
              "      <td>he is a dj</td>\n",
              "      <td>he is a</td>\n",
              "    </tr>\n",
              "    <tr>\n",
              "      <th>2</th>\n",
              "      <td>i like seafood</td>\n",
              "      <td>i like sweets</td>\n",
              "    </tr>\n",
              "    <tr>\n",
              "      <th>3</th>\n",
              "      <td>do it tomorrow</td>\n",
              "      <td>take again</td>\n",
              "    </tr>\n",
              "    <tr>\n",
              "      <th>4</th>\n",
              "      <td>do you need the phone</td>\n",
              "      <td>do you need the phone</td>\n",
              "    </tr>\n",
              "    <tr>\n",
              "      <th>5</th>\n",
              "      <td>this door wont shut</td>\n",
              "      <td>the door open open</td>\n",
              "    </tr>\n",
              "    <tr>\n",
              "      <th>6</th>\n",
              "      <td>i think youre stupid</td>\n",
              "      <td>i think youre nice</td>\n",
              "    </tr>\n",
              "    <tr>\n",
              "      <th>7</th>\n",
              "      <td>toms wife just died</td>\n",
              "      <td>toms is is fat</td>\n",
              "    </tr>\n",
              "    <tr>\n",
              "      <th>8</th>\n",
              "      <td>tom kept winning</td>\n",
              "      <td>tom took up</td>\n",
              "    </tr>\n",
              "    <tr>\n",
              "      <th>9</th>\n",
              "      <td>who do you live with</td>\n",
              "      <td>who are you for</td>\n",
              "    </tr>\n",
              "    <tr>\n",
              "      <th>10</th>\n",
              "      <td>theyre upset</td>\n",
              "      <td>youre upset</td>\n",
              "    </tr>\n",
              "    <tr>\n",
              "      <th>11</th>\n",
              "      <td>take cover</td>\n",
              "      <td>take your</td>\n",
              "    </tr>\n",
              "    <tr>\n",
              "      <th>12</th>\n",
              "      <td>im not tired</td>\n",
              "      <td>im not tired</td>\n",
              "    </tr>\n",
              "    <tr>\n",
              "      <th>13</th>\n",
              "      <td>ill join you</td>\n",
              "      <td>im going join you</td>\n",
              "    </tr>\n",
              "    <tr>\n",
              "      <th>14</th>\n",
              "      <td>he fell backward</td>\n",
              "      <td>he got to to</td>\n",
              "    </tr>\n",
              "  </tbody>\n",
              "</table>\n",
              "</div>"
            ],
            "text/plain": [
              "                   actual                 predicted\n",
              "0     tom banged his head  tom brushed his head    \n",
              "1              he is a dj              he is a     \n",
              "2          i like seafood        i like sweets     \n",
              "3          do it tomorrow          take again      \n",
              "4   do you need the phone  do you need the phone   \n",
              "5     this door wont shut    the door open open    \n",
              "6    i think youre stupid    i think youre nice    \n",
              "7     toms wife just died        toms is is fat    \n",
              "8        tom kept winning          tom took up     \n",
              "9    who do you live with       who are you for    \n",
              "10           theyre upset         youre upset      \n",
              "11             take cover           take your      \n",
              "12           im not tired         im not tired     \n",
              "13           ill join you     im going join you    \n",
              "14       he fell backward          he got to to    "
            ]
          },
          "metadata": {
            "tags": []
          },
          "execution_count": 47
        }
      ]
    },
    {
      "cell_type": "code",
      "metadata": {
        "id": "46IzSbVu3vpJ",
        "colab_type": "code",
        "colab": {}
      },
      "source": [
        ""
      ],
      "execution_count": 0,
      "outputs": []
    },
    {
      "cell_type": "code",
      "metadata": {
        "id": "bEXyt0eV3vrr",
        "colab_type": "code",
        "colab": {}
      },
      "source": [
        ""
      ],
      "execution_count": 0,
      "outputs": []
    },
    {
      "cell_type": "code",
      "metadata": {
        "id": "C5X2gtrP3vuQ",
        "colab_type": "code",
        "colab": {}
      },
      "source": [
        ""
      ],
      "execution_count": 0,
      "outputs": []
    },
    {
      "cell_type": "code",
      "metadata": {
        "id": "SDmjnQao3v0g",
        "colab_type": "code",
        "colab": {}
      },
      "source": [
        ""
      ],
      "execution_count": 0,
      "outputs": []
    },
    {
      "cell_type": "code",
      "metadata": {
        "id": "rS7rbeqH3v46",
        "colab_type": "code",
        "colab": {}
      },
      "source": [
        ""
      ],
      "execution_count": 0,
      "outputs": []
    },
    {
      "cell_type": "code",
      "metadata": {
        "id": "dR-2ff613v79",
        "colab_type": "code",
        "colab": {}
      },
      "source": [
        ""
      ],
      "execution_count": 0,
      "outputs": []
    },
    {
      "cell_type": "code",
      "metadata": {
        "id": "q8C92rbJ3v-t",
        "colab_type": "code",
        "colab": {}
      },
      "source": [
        ""
      ],
      "execution_count": 0,
      "outputs": []
    },
    {
      "cell_type": "code",
      "metadata": {
        "id": "XIX010u23wBY",
        "colab_type": "code",
        "colab": {}
      },
      "source": [
        ""
      ],
      "execution_count": 0,
      "outputs": []
    },
    {
      "cell_type": "code",
      "metadata": {
        "id": "WhchflBK3ve7",
        "colab_type": "code",
        "colab": {}
      },
      "source": [
        ""
      ],
      "execution_count": 0,
      "outputs": []
    },
    {
      "cell_type": "code",
      "metadata": {
        "id": "IilV07Te3vZm",
        "colab_type": "code",
        "colab": {}
      },
      "source": [
        ""
      ],
      "execution_count": 0,
      "outputs": []
    }
  ]
}